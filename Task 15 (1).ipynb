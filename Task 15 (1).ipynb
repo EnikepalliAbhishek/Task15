{
 "cells": [
  {
   "cell_type": "markdown",
   "id": "985dd64b",
   "metadata": {},
   "source": [
    "Task 1: **Leap Year Checker**\n",
    "\n",
    "Write a program that takes a year as input and determines whether it is a leap year or not. A leap year is a year that is divisible by 4, but not divisible by 100, unless it is also divisible by 400. Display an appropriate message indicating whether the year is a leap year or not.\n",
    "\n",
    "Task 2: **Grade Calculator**\n",
    "\n",
    "Write a program that takes a student's score as input (out of 100) and determines their grade based on the following conditions:\n",
    "If the score is 90 or above, the grade is 'A'.\n",
    "If the score is between 80 and 89, the grade is 'B'.\n",
    "If the score is between 70 and 79, the grade is 'C'.\n",
    "If the score is between 60 and 69, the grade is 'D'. If the score is below 60, the grade is 'F'.\n",
    "Display the grade corresponding to the entered score.\n",
    "\n",
    "Task 3: **Calculator**\n",
    "Write a program that takes two numbers as input and performs a mathematical operation (+, -, *, /) based on the user's choice. Use a conditional statement to determine the operation to be performed. Display the result of the calculation.\n",
    "\n",
    "Task 4: **Reverse String**\n",
    "Write a Python function to reverse a string.\n",
    "\n",
    "Task 5: **Palindrome**\n",
    "Write a Python function that checks whether a passed string is a palindrome or not.\n",
    "\n",
    "Task 6: **Counting**\n",
    "Write a Python function that accepts a string and counts the number of upper and lower case letters.\n",
    "\n",
    "Task 7: **"
   ]
  },
  {
   "cell_type": "raw",
   "id": "eb4cbb49",
   "metadata": {},
   "source": [
    "Task 1: Leap Year Checker\n",
    "\n",
    "Write a program that takes a year as input and determines whether it is a leap year or not. A leap year is a year that is divisible by 4, but not divisible by 100, unless it is also divisible by 400. Display an appropriate message indicating whether the year is a leap year or not."
   ]
  },
  {
   "cell_type": "code",
   "execution_count": 8,
   "id": "b1054de7",
   "metadata": {},
   "outputs": [
    {
     "name": "stdout",
     "output_type": "stream",
     "text": [
      "Enter the Year::2012\n",
      "It is leap year\n"
     ]
    }
   ],
   "source": [
    "a=int(input(\"Enter the Year::\"))\n",
    "if a%4==0 and a%100!=0 or a%400==0:\n",
    "    print(\"It is leap year\")\n",
    "else:\n",
    "    print(\"It is not leap year\")"
   ]
  },
  {
   "cell_type": "raw",
   "id": "c3bd5072",
   "metadata": {},
   "source": [
    "Task 2: Grade Calculator\n",
    "\n",
    "Write a program that takes a student's score as input (out of 100) and determines their grade based on the following conditions: If the score is 90 or above, the grade is 'A'. If the score is between 80 and 89, the grade is 'B'. If the score is between 70 and 79, the grade is 'C'. If the score is between 60 and 69, the grade is 'D'. If the score is below 60, the grade is 'F'. Display the grade corresponding to the entered score."
   ]
  },
  {
   "cell_type": "code",
   "execution_count": 8,
   "id": "da1e9d6a",
   "metadata": {},
   "outputs": [
    {
     "name": "stdout",
     "output_type": "stream",
     "text": [
      "Enter the marks::70\n",
      "The grade is c\n"
     ]
    }
   ],
   "source": [
    "def abhi(a):\n",
    "    a=int(input(\"Enter the marks::\"))\n",
    "    if a>=90 and a<=100:\n",
    "        print(\"The grade is A\")\n",
    "    elif a>=80 and a<=89:\n",
    "        print(\"The grade is B\")\n",
    "    elif a>=70 and a<=79:\n",
    "        print(\"The grade is c\")\n",
    "    elif a>=60 and a<=69:\n",
    "        print(\"The grade is D\")\n",
    "    elif a<0:\n",
    "        print(\"Enter the correct marks\")\n",
    "    else:\n",
    "        print(\"Fail\")\n",
    "abhi(a)"
   ]
  },
  {
   "cell_type": "raw",
   "id": "4edc6a5c",
   "metadata": {},
   "source": [
    "Task 3: Calculator Write a program that takes two numbers as input and performs a mathematical operation (+, -, *, /) based on the user's choice. Use a conditional statement to determine the operation to be performed. Display the result of the calculation."
   ]
  },
  {
   "cell_type": "code",
   "execution_count": 18,
   "id": "d84ee7ae",
   "metadata": {},
   "outputs": [
    {
     "name": "stdout",
     "output_type": "stream",
     "text": [
      "Enter the number::10\n",
      "Enter the number::8\n",
      "Addition the number 18\n",
      "subarction 2\n",
      "multication 80\n",
      "division 1.25\n"
     ]
    }
   ],
   "source": [
    "a=int(input(\"Enter the number::\"))\n",
    "b=int(input(\"Enter the number::\"))\n",
    "c=a+b\n",
    "print(\"Addition the number\",c)\n",
    "d=a-b\n",
    "print(\"subarction\",d)\n",
    "x=a*b\n",
    "print(\"multication\",x)\n",
    "z=a/b\n",
    "print(\"division\",z)"
   ]
  },
  {
   "cell_type": "raw",
   "id": "db4da868",
   "metadata": {},
   "source": [
    "Task 4: Reverse String Write a Python function to reverse a string."
   ]
  },
  {
   "cell_type": "code",
   "execution_count": 20,
   "id": "9f5a72d1",
   "metadata": {},
   "outputs": [
    {
     "name": "stdout",
     "output_type": "stream",
     "text": [
      "Enter the string::abhishek\n"
     ]
    },
    {
     "data": {
      "text/plain": [
       "'kehsihba'"
      ]
     },
     "execution_count": 20,
     "metadata": {},
     "output_type": "execute_result"
    }
   ],
   "source": [
    "def string(a):\n",
    "    a=str(input(\"Enter the string::\"))\n",
    "    return a[::-1]\n",
    "string(a)"
   ]
  },
  {
   "cell_type": "raw",
   "id": "c685ca0b",
   "metadata": {},
   "source": [
    "Task 5: Palindrome Write a Python function that checks whether a passed string is a palindrome or not."
   ]
  },
  {
   "cell_type": "code",
   "execution_count": 22,
   "id": "e051f4e4",
   "metadata": {},
   "outputs": [
    {
     "name": "stdout",
     "output_type": "stream",
     "text": [
      "Enter the string::abhishek\n",
      "It is  not palindrome\n"
     ]
    }
   ],
   "source": [
    "def string(a):\n",
    "    a=str(input(\"Enter the string::\"))\n",
    "    if a==a[::-1]:\n",
    "        print(\"It is palindrome\")\n",
    "    else:\n",
    "        print(\"It is  not palindrome\")\n",
    "string(a)"
   ]
  },
  {
   "cell_type": "raw",
   "id": "abd896a2",
   "metadata": {},
   "source": [
    "Task 6: Counting Write a Python function that accepts a string and counts the number of upper and lower case letters."
   ]
  },
  {
   "cell_type": "code",
   "execution_count": 20,
   "id": "5f02f8a1",
   "metadata": {},
   "outputs": [
    {
     "name": "stdout",
     "output_type": "stream",
     "text": [
      "Enter a string:: AbHiShEk\n",
      "['A', 'H', 'S', 'E']\n",
      "['b', 'i', 'h', 'k']\n",
      "Number of upper case letters are::  4\n",
      "Number of lower case letters are::  4\n"
     ]
    }
   ],
   "source": [
    "string= input(\"Enter a string:: \")\n",
    "Upper=[]\n",
    "Lower=[]\n",
    "def abhi(string):\n",
    "    upper = [chr(65+i) for i in range(0,26)]\n",
    "    lower = [chr(97+i) for i in range(0,26)]\n",
    "    for i in string:\n",
    "        if i in upper:\n",
    "            Upper.append(i)\n",
    "        else :\n",
    "            Lower.append(i)        \n",
    "    print(Upper)\n",
    "    print(Lower)\n",
    "    print(\"Number of upper case letters are:: \",len(Upper))\n",
    "    print(\"Number of lower case letters are:: \",len(Lower))\n",
    "abhi(string)"
   ]
  },
  {
   "cell_type": "code",
   "execution_count": null,
   "id": "fa5a67ba",
   "metadata": {},
   "outputs": [],
   "source": []
  },
  {
   "cell_type": "code",
   "execution_count": null,
   "id": "f5742443",
   "metadata": {},
   "outputs": [],
   "source": []
  }
 ],
 "metadata": {
  "kernelspec": {
   "display_name": "Python 3 (ipykernel)",
   "language": "python",
   "name": "python3"
  },
  "language_info": {
   "codemirror_mode": {
    "name": "ipython",
    "version": 3
   },
   "file_extension": ".py",
   "mimetype": "text/x-python",
   "name": "python",
   "nbconvert_exporter": "python",
   "pygments_lexer": "ipython3",
   "version": "3.11.4"
  }
 },
 "nbformat": 4,
 "nbformat_minor": 5
}
